{
 "cells": [
  {
   "cell_type": "code",
   "execution_count": 11,
   "id": "f3e43333",
   "metadata": {},
   "outputs": [
    {
     "name": "stdout",
     "output_type": "stream",
     "text": [
      "Collecting chardet\n",
      "  Downloading chardet-5.2.0-py3-none-any.whl.metadata (3.4 kB)\n",
      "Downloading chardet-5.2.0-py3-none-any.whl (199 kB)\n",
      "Installing collected packages: chardet\n",
      "Successfully installed chardet-5.2.0\n"
     ]
    }
   ],
   "source": [
    "import pandas as pd\n",
    "import numpy as np\n",
    "import io\n",
    "!pip install chardet\n",
    "import chardet"
   ]
  },
  {
   "cell_type": "code",
   "execution_count": 13,
   "id": "161f8741",
   "metadata": {},
   "outputs": [
    {
     "name": "stdout",
     "output_type": "stream",
     "text": [
      "Mã hóa dự đoán: {'encoding': 'ISO-8859-1', 'confidence': 0.73, 'language': ''}\n"
     ]
    }
   ],
   "source": [
    "# Thiết lập\n",
    "file_path = r\"C:\\Users\\Dell\\Downloads\\TradeData_10_28_2025_21_41_43.csv\"\n",
    "\n",
    "pd.set_option('display.max_columns', None)\n",
    "pd.set_option('display.width', 1000)\n",
    "\n",
    "with open(file_path, \"rb\") as f:\n",
    "    rawdata = f.read(200000)\n",
    "    result = chardet.detect(rawdata)\n",
    "print(\"Mã hóa dự đoán:\", result)"
   ]
  },
  {
   "cell_type": "code",
   "execution_count": 14,
   "id": "9f6bcffd",
   "metadata": {},
   "outputs": [
    {
     "name": "stdout",
     "output_type": "stream",
     "text": [
      "  typeCode  freqCode  refPeriodId  refYear  refMonth  period reporterCode reporterISO reporterDesc flowCode  flowDesc partnerCode partnerISO  partnerDesc partner2Code partner2ISO partner2Desc classificationCode  classificationSearchCode  isOriginalClassification                         cmdCode  cmdDesc  aggrLevel isLeaf customsCode  customsDesc  mosCode    motCode  motDesc qtyUnitCode  qtyUnitAbbr    qty  isQtyEstimated altQtyUnitCode  altQtyUnitAbbr  altQty  isAltQtyEstimated  netWgt  isNetWgtEstimated  grossWgt  isGrossWgtEstimated  cifvalue      fobvalue  primaryValue  legacyEstimationFlag  isReported  isAggregate\n",
      "C        A  20200101         2020       52      2020     156          CHN       China            M   Import         0         W00      World            0          W00       World           H5                 HS                      True                      8542  Electronic integrated circuits        4      False    C00   TOTAL CPC            0        0  TOTAL MOT       -1         NaN          0.0   True              -1            NaN             0.0   False       7.467782e+07    True                  0     False         3.507703e+11       0.0  3.507703e+11             6                 False        True          NaN\n",
      "C        A  20200101         2020       52      2020     156          CHN       China            M   Import         8         ALB    Albania            0          W00       World           H5                 HS                      True                      8542  Electronic integrated circuits        4      False    C00   TOTAL CPC            0        0  TOTAL MOT        5           u        465.0  False               5              u           465.0   False       5.710000e-01    True                  0     False         3.905000e+03       0.0  3.905000e+03             4                 False        True          NaN\n",
      "C        A  20200101         2020       52      2020     156          CHN       China            M   Import        12         DZA    Algeria            0          W00       World           H5                 HS                      True                      8542  Electronic integrated circuits        4      False    C00   TOTAL CPC            0        0  TOTAL MOT        5           u       1105.0  False               5              u          1105.0   False       5.200000e-02    True                  0     False         2.010000e+02       0.0  2.010000e+02             4                 False        True          NaN\n",
      "C        A  20200101         2020       52      2020     156          CHN       China            M   Import        20         AND    Andorra            0          W00       World           H5                 HS                      True                      8542  Electronic integrated circuits        4      False    C00   TOTAL CPC            0        0  TOTAL MOT        5           u       3500.0  False               5              u          3500.0   False       2.480000e-01    True                  0     False         1.698000e+03       0.0  1.698000e+03             4                 False        True          NaN\n",
      "C        A  20200101         2020       52      2020     156          CHN       China            M   Import        32         ARG  Argentina            0          W00       World           H5                 HS                      True                      8542  Electronic integrated circuits        4      False    C00   TOTAL CPC            0        0  TOTAL MOT        5           u      37204.0  False               5              u         37204.0   False       8.026000e+00    True                  0     False         5.612400e+04       0.0  5.612400e+04             4                 False        True          NaN\n"
     ]
    }
   ],
   "source": [
    "df = pd.read_csv(file_path, encoding=\"ISO-8859-1\", low_memory=False)\n",
    "print(df.head())\n"
   ]
  },
  {
   "cell_type": "markdown",
   "id": "d455ef62",
   "metadata": {},
   "source": [
    "- Shape & Info"
   ]
  },
  {
   "cell_type": "code",
   "execution_count": 18,
   "id": "a6e9653e",
   "metadata": {},
   "outputs": [
    {
     "name": "stdout",
     "output_type": "stream",
     "text": [
      "--- 1. Kích thước (Shape) ---\n",
      "Số hàng: 13689, Số cột: 47\n",
      "--- 2. Thông tin cột (Info) ---\n",
      "<class 'pandas.core.frame.DataFrame'>\n",
      "Index: 13689 entries, C to C\n",
      "Data columns (total 47 columns):\n",
      " #   Column                    Non-Null Count  Dtype  \n",
      "---  ------                    --------------  -----  \n",
      " 0   typeCode                  13689 non-null  object \n",
      " 1   freqCode                  13689 non-null  int64  \n",
      " 2   refPeriodId               13689 non-null  int64  \n",
      " 3   refYear                   13689 non-null  int64  \n",
      " 4   refMonth                  13689 non-null  int64  \n",
      " 5   period                    13689 non-null  int64  \n",
      " 6   reporterCode              13689 non-null  object \n",
      " 7   reporterISO               13689 non-null  object \n",
      " 8   reporterDesc              13689 non-null  object \n",
      " 9   flowCode                  13689 non-null  object \n",
      " 10  flowDesc                  13689 non-null  int64  \n",
      " 11  partnerCode               13689 non-null  object \n",
      " 12  partnerISO                13689 non-null  object \n",
      " 13  partnerDesc               13689 non-null  int64  \n",
      " 14  partner2Code              13689 non-null  object \n",
      " 15  partner2ISO               13689 non-null  object \n",
      " 16  partner2Desc              13689 non-null  object \n",
      " 17  classificationCode        13689 non-null  object \n",
      " 18  classificationSearchCode  13689 non-null  bool   \n",
      " 19  isOriginalClassification  13689 non-null  int64  \n",
      " 20  cmdCode                   13689 non-null  object \n",
      " 21  cmdDesc                   13689 non-null  int64  \n",
      " 22  aggrLevel                 13689 non-null  bool   \n",
      " 23  isLeaf                    13689 non-null  object \n",
      " 24  customsCode               13689 non-null  object \n",
      " 25  customsDesc               13689 non-null  int64  \n",
      " 26  mosCode                   13689 non-null  int64  \n",
      " 27  motCode                   13689 non-null  object \n",
      " 28  motDesc                   13689 non-null  int64  \n",
      " 29  qtyUnitCode               7777 non-null   object \n",
      " 30  qtyUnitAbbr               13689 non-null  float64\n",
      " 31  qty                       13689 non-null  bool   \n",
      " 32  isQtyEstimated            13689 non-null  int64  \n",
      " 33  altQtyUnitCode            9171 non-null   object \n",
      " 34  altQtyUnitAbbr            13689 non-null  float64\n",
      " 35  altQty                    13689 non-null  bool   \n",
      " 36  isAltQtyEstimated         11220 non-null  float64\n",
      " 37  netWgt                    13689 non-null  bool   \n",
      " 38  isNetWgtEstimated         13689 non-null  int64  \n",
      " 39  grossWgt                  13689 non-null  bool   \n",
      " 40  isGrossWgtEstimated       8522 non-null   float64\n",
      " 41  cifvalue                  10265 non-null  float64\n",
      " 42  fobvalue                  13689 non-null  float64\n",
      " 43  primaryValue              13689 non-null  int64  \n",
      " 44  legacyEstimationFlag      13689 non-null  bool   \n",
      " 45  isReported                13689 non-null  bool   \n",
      " 46  isAggregate               0 non-null      float64\n",
      "dtypes: bool(8), float64(7), int64(15), object(17)\n",
      "memory usage: 4.3+ MB\n",
      "\n"
     ]
    }
   ],
   "source": [
    "if 'df' in locals():\n",
    "    print(f\"--- 1. Kích thước (Shape) ---\")\n",
    "    print(f\"Số hàng: {df.shape[0]}, Số cột: {df.shape[1]}\")\n",
    "    \n",
    "    print(f\"--- 2. Thông tin cột (Info) ---\")\n",
    "    import io\n",
    "    buf = io.StringIO()\n",
    "    df.info(buf=buf)\n",
    "    print(buf.getvalue())\n",
    "else:\n",
    "    print(\"LỖI: Biến 'df' chưa được tải\")"
   ]
  },
  {
   "cell_type": "markdown",
   "id": "2cb3328f",
   "metadata": {},
   "source": [
    "- Thống kê mô tả"
   ]
  },
  {
   "cell_type": "code",
   "execution_count": null,
   "id": "705dcbc3",
   "metadata": {},
   "outputs": [
    {
     "name": "stdout",
     "output_type": "stream",
     "text": [
      "--- 3. Thống kê mô tả (Describe) cho các cột SỐ ---\n",
      "                            count          mean           std         min         25%           50%           75%           max\n",
      "freqCode                  13689.0  2.021954e+07  1.377720e+04  20200101.0  20210101.0  2.022010e+07  2.023010e+07  2.024010e+07\n",
      "refPeriodId               13689.0  2.021944e+03  1.377720e+00      2020.0      2021.0  2.022000e+03  2.023000e+03  2.024000e+03\n",
      "refYear                   13689.0  5.200000e+01  0.000000e+00        52.0        52.0  5.200000e+01  5.200000e+01  5.200000e+01\n",
      "refMonth                  13689.0  2.021944e+03  1.377720e+00      2020.0      2021.0  2.022000e+03  2.023000e+03  2.024000e+03\n",
      "period                    13689.0  4.837865e+02  2.740142e+02       156.0       156.0  4.100000e+02  8.420000e+02  8.420000e+02\n",
      "flowDesc                  13689.0  4.392403e+02  2.509448e+02         0.0       218.0  4.420000e+02  6.620000e+02  8.990000e+02\n",
      "partnerDesc               13689.0  0.000000e+00  0.000000e+00         0.0         0.0  0.000000e+00  0.000000e+00  0.000000e+00\n",
      "isOriginalClassification  13689.0  5.302041e+05  4.111533e+05      8542.0      8542.0  8.542310e+05  8.542390e+05  8.542390e+05\n",
      "cmdDesc                   13689.0  5.233691e+00  9.723464e-01         4.0         4.0  6.000000e+00  6.000000e+00  6.000000e+00\n",
      "customsDesc               13689.0  0.000000e+00  0.000000e+00         0.0         0.0  0.000000e+00  0.000000e+00  0.000000e+00\n",
      "mosCode                   13689.0  0.000000e+00  0.000000e+00         0.0         0.0  0.000000e+00  0.000000e+00  0.000000e+00\n",
      "motDesc                   13689.0  2.429761e+00  3.000885e+00        -1.0        -1.0  5.000000e+00  5.000000e+00  8.000000e+00\n",
      "qtyUnitAbbr               13689.0  5.589392e+08  8.051769e+09         0.0         0.0  3.000000e+01  7.664900e+04  3.797158e+11\n",
      "isQtyEstimated            13689.0  3.362481e+00  3.198313e+00        -1.0        -1.0  5.000000e+00  5.000000e+00  8.000000e+00\n",
      "altQtyUnitAbbr            13689.0  4.549405e+08  7.010566e+09         0.0         0.0  2.415290e+02  1.022030e+05  3.797158e+11\n",
      "isAltQtyEstimated         11220.0  2.868126e+05  2.319080e+06         0.0         1.0  5.831400e+01  4.440836e+03  8.390362e+07\n",
      "isNetWgtEstimated         13689.0  0.000000e+00  0.000000e+00         0.0         0.0  0.000000e+00  0.000000e+00  0.000000e+00\n",
      "isGrossWgtEstimated        8522.0  1.105516e+09  1.198651e+10         0.0         0.0  2.103500e+04  2.712167e+06  4.326337e+11\n",
      "cifvalue                  10265.0  5.552707e+08  4.992695e+09         0.0      2023.0  9.489100e+04  6.423951e+06  1.597472e+11\n",
      "fobvalue                  13689.0  1.071217e+09  1.036234e+10         1.0     13204.0  3.309880e+05  1.534968e+07  4.326337e+11\n",
      "primaryValue              13689.0  2.356198e+00  2.252202e+00         0.0         0.0  4.000000e+00  4.000000e+00  6.000000e+00\n",
      "isAggregate                   0.0           NaN           NaN         NaN         NaN           NaN           NaN           NaN\n"
     ]
    }
   ],
   "source": [
    "if 'df' in locals():\n",
    "    print(f\"--- 3. Thống kê mô tả (Describe) cho các cột số ---\")\n",
    "    numeric_cols = df.select_dtypes(include=[np.number]).columns\n",
    "    \n",
    "    if not numeric_cols.empty:\n",
    "        print(df[numeric_cols].describe().T)\n",
    "    else:\n",
    "        print(\"Không tìm thấy cột số nào.\")\n",
    "else:\n",
    "    print(\"LỖI: Biến 'df' chưa được tải\")"
   ]
  },
  {
   "cell_type": "code",
   "execution_count": 22,
   "id": "ad6c4f95",
   "metadata": {},
   "outputs": [
    {
     "name": "stdout",
     "output_type": "stream",
     "text": [
      "--- 4. Thống kê mô tả (Describe) cho các cột chữ (Object/Bool) ---\n",
      "                          count unique                             top   freq\n",
      "typeCode                  13689      1                               A  13689\n",
      "reporterCode              13689      5                             CHN   4053\n",
      "reporterISO               13689      5                           China   4053\n",
      "reporterDesc              13689      2                               X   7413\n",
      "flowCode                  13689      2                          Export   7413\n",
      "partnerCode               13689    231                             W00    144\n",
      "partnerISO                13689    232                           World    144\n",
      "partner2Code              13689      1                             W00  13689\n",
      "partner2ISO               13689      1                           World  13689\n",
      "partner2Desc              13689      2                              H6   8091\n",
      "classificationCode        13689      1                              HS  13689\n",
      "classificationSearchCode  13689      1                            True  13689\n",
      "cmdCode                   13689      3  Electronic integrated circuits   5245\n",
      "aggrLevel                 13689      2                            True   8444\n",
      "isLeaf                    13689      1                             C00  13689\n",
      "customsCode               13689      1                       TOTAL CPC  13689\n",
      "motCode                   13689      1                       TOTAL MOT  13689\n",
      "qtyUnitCode                7777      2                               u   7681\n",
      "qty                       13689      2                           False  11540\n",
      "altQtyUnitCode             9171      2                               u   7607\n",
      "altQty                    13689      1                           False  13689\n",
      "netWgt                    13689      2                            True   6989\n",
      "grossWgt                  13689      1                           False  13689\n",
      "legacyEstimationFlag      13689      2                            True   7921\n",
      "isReported                13689      2                           False   7921\n"
     ]
    }
   ],
   "source": [
    "if 'df' in locals():\n",
    "    print(f\"--- 4. Thống kê mô tả (Describe) cho các cột chữ (Object/Bool) ---\")\n",
    "    object_cols = df.select_dtypes(include=['object', 'bool']).columns\n",
    "    \n",
    "    if not object_cols.empty:\n",
    "        print(df[object_cols].describe().T)\n",
    "    else:\n",
    "        print(\"Không tìm thấy cột chữ (object) hoặc boolean nào.\")\n",
    "else:\n",
    "    print(\"LỖI: Biến 'df' chưa được tải\")"
   ]
  },
  {
   "cell_type": "markdown",
   "id": "ce918d82",
   "metadata": {},
   "source": [
    "- Kiểm tra các cột quan trọng"
   ]
  },
  {
   "cell_type": "code",
   "execution_count": 27,
   "id": "b2741e95",
   "metadata": {},
   "outputs": [
    {
     "name": "stdout",
     "output_type": "stream",
     "text": [
      "--- 5. Kiểm tra các cột quan trọng (SỬA LỖI LẦN 2) ---\n",
      "Phạm vi năm: [2020 2021 2022 2023 2024]\n",
      "\n",
      "Các hướng giao dịch (flowCode) [M=Import, X=Export]:\n",
      "flowCode\n",
      "Export    7413\n",
      "Import    6276\n",
      "Name: count, dtype: int64\n",
      "\n",
      "Các mã sản phẩm (cmdCode) - Top 5:\n",
      "cmdCode\n",
      "Electronic integrated circuits                                                                                                                                                             5245\n",
      "Electronic integrated circuits; n.e.c. in heading no. 8542                                                                                                                                 4353\n",
      "Electronic integrated circuits; processors and controllers, whether or not combined with memories, converters, logic circuits, amplifiers, clock and timing circuits, or other circuits    4091\n",
      "Name: count, dtype: int64\n",
      "==> LƯU Ý: Không tìm thấy mã '85' (Điện tử) trong dữ liệu.\n",
      "\n",
      "Quốc gia Báo cáo (reporterISO) - Top 5:\n",
      "reporterISO\n",
      "China            4053\n",
      "USA              3867\n",
      "Rep. of Korea    2504\n",
      "Japan            1894\n",
      "Viet Nam         1371\n",
      "Name: count, dtype: int64\n",
      "\n",
      "Quốc gia Đối tác (partnerISO) - Top 5:\n",
      "partnerISO\n",
      "World        144\n",
      "Australia    144\n",
      "Austria      144\n",
      "Canada       144\n",
      "Hungary      144\n",
      "Name: count, dtype: int64\n"
     ]
    }
   ],
   "source": [
    "if 'df' in locals():\n",
    "    print(f\"--- 5. Kiểm tra các cột quan trọng (SỬA LỖI LẦN 2) ---\")\n",
    "    \n",
    "    # === 1. Lấy cột Năm ===\n",
    "    if 'refMonth' in df.columns:\n",
    "        print(f\"Phạm vi năm: {df['refMonth'].unique()}\")\n",
    "    else:\n",
    "        print(\"LỖI: Không tìm thấy cột 'refMonth'.\")\n",
    "\n",
    "    \n",
    "    print(f\"\\nCác hướng giao dịch (flowCode) [M=Import, X=Export]:\")\n",
    "    if 'flowCode' in df.columns:\n",
    "        print(df['flowCode'].value_counts())\n",
    "    \n",
    "    \n",
    "    # === 2. Lấy cột Mã sản phẩm ===\n",
    "    print(f\"\\nCác mã sản phẩm (cmdCode) - Top 5:\")\n",
    "    if 'cmdCode' in df.columns:\n",
    "        cmd_counts = df['cmdCode'].value_counts()\n",
    "        print(cmd_counts.head())\n",
    "        \n",
    "        if '85' in cmd_counts.index or 85 in cmd_counts.index:\n",
    "            count_85 = cmd_counts.loc[cmd_counts.index.isin(['85', 85])].sum()\n",
    "            print(f\"==> TÌM THẤY: {count_85} / {df.shape[0]} dòng là mã '85' (Điện tử)\")\n",
    "        else:\n",
    "             print(\"==> LƯU Ý: Không tìm thấy mã '85' (Điện tử) trong dữ liệu.\")\n",
    "             \n",
    "            \n",
    "    # === 3. Lấy đúng cột Quốc gia (dùng cột ISO) ===\n",
    "    print(f\"\\nQuốc gia Báo cáo (reporterISO) - Top 5:\")\n",
    "    if 'reporterISO' in df.columns:\n",
    "        print(df['reporterISO'].value_counts().head())\n",
    "\n",
    "    print(f\"\\nQuốc gia Đối tác (partnerISO) - Top 5:\")\n",
    "    if 'partnerISO' in df.columns:\n",
    "        print(df['partnerISO'].value_counts().head())\n",
    "else:\n",
    "    print(\"LỖI: Biến 'df' chưa được tải.\")"
   ]
  },
  {
   "cell_type": "markdown",
   "id": "a9f4a2e9",
   "metadata": {},
   "source": [
    "- Kiểm tra dữ liệu thuế"
   ]
  },
  {
   "cell_type": "code",
   "execution_count": 29,
   "id": "935c1963",
   "metadata": {},
   "outputs": [
    {
     "name": "stdout",
     "output_type": "stream",
     "text": [
      "--- 6. KIỂM TRA DỮ LIỆU THUẾ QUAN (TARIFF) ---\n",
      "==> LƯU Ý QUAN TRỌNG: Không tìm thấy cột nào chứa dữ liệu THUẾ SUẤT (Tariff/Duty).\n",
      "Các cột như 'cifvalue', 'fobvalue' là TỔNG GIÁ TRỊ GIAO DỊCH ($), không phải thuế suất (%).\n",
      "\n",
      "--- Kiểm tra hoàn tất ---\n"
     ]
    }
   ],
   "source": [
    "if 'df' in locals():\n",
    "    print(f\"--- 6. KIỂM TRA DỮ LIỆU THUẾ QUAN (TARIFF) ---\")\n",
    "    \n",
    "    # Tạo một danh sách các cột có tên chứa các từ khóa về thuế\n",
    "    possible_tariff_cols = [col for col in df.columns \n",
    "                            if 'tariff' in col.lower() \n",
    "                            or 'duty' in col.lower() \n",
    "                            or 'tax' in col.lower() \n",
    "                            or 'rate' in col.lower()]\n",
    "\n",
    "    if len(possible_tariff_cols) > 0:\n",
    "        print(f\"==> PHÁT HIỆN: Tìm thấy các cột có thể liên quan đến thuế: {possible_tariff_cols}\")\n",
    "        print(\"Vui lòng kiểm tra các cột này kỹ hơn ở bước sau.\")\n",
    "    else:\n",
    "        print(\"==> LƯU Ý QUAN TRỌNG: Không tìm thấy cột nào chứa dữ liệu THUẾ SUẤT (Tariff/Duty).\")\n",
    "        print(\"Các cột như 'cifvalue', 'fobvalue' là TỔNG GIÁ TRỊ GIAO DỊCH ($), không phải thuế suất (%).\")\n",
    "\n",
    "    print(\"\\n--- Kiểm tra hoàn tất ---\")\n",
    "else:\n",
    "    print(\"LỖI: Biến 'df' chưa được tải.\")"
   ]
  }
 ],
 "metadata": {
  "kernelspec": {
   "display_name": "ds102",
   "language": "python",
   "name": "python3"
  },
  "language_info": {
   "codemirror_mode": {
    "name": "ipython",
    "version": 3
   },
   "file_extension": ".py",
   "mimetype": "text/x-python",
   "name": "python",
   "nbconvert_exporter": "python",
   "pygments_lexer": "ipython3",
   "version": "3.11.13"
  }
 },
 "nbformat": 4,
 "nbformat_minor": 5
}
