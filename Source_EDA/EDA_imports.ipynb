{
 "cells": [
  {
   "cell_type": "code",
   "execution_count": 1,
   "id": "d443a362",
   "metadata": {},
   "outputs": [],
   "source": [
    "import pandas as pd\n",
    "import numpy as np\n",
    "import os"
   ]
  },
  {
   "cell_type": "code",
   "execution_count": 2,
   "id": "d06283fc",
   "metadata": {},
   "outputs": [],
   "source": [
    "# Thiết lập\n",
    "file_path = r\"C:\\Users\\Dell\\Downloads\\adb_imports_28_10_2025_03_38_41.csv\"\n",
    "\n",
    "pd.set_option('display.max_columns', None)\n",
    "pd.set_option('display.width', 1000)\n"
   ]
  },
  {
   "cell_type": "markdown",
   "id": "5cd366e9",
   "metadata": {},
   "source": [
    "- Làm sạch tên cột\n"
   ]
  },
  {
   "cell_type": "code",
   "execution_count": 3,
   "id": "293b6b9a",
   "metadata": {},
   "outputs": [],
   "source": [
    "df = pd.read_csv(file_path)\n",
    "df.columns = df.columns.str.strip()"
   ]
  },
  {
   "cell_type": "markdown",
   "id": "2eed126a",
   "metadata": {},
   "source": [
    "- Kích thước\n",
    "\n"
   ]
  },
  {
   "cell_type": "code",
   "execution_count": 4,
   "id": "6715566d",
   "metadata": {},
   "outputs": [
    {
     "name": "stdout",
     "output_type": "stream",
     "text": [
      "--- 1. Kích thước (Shape) ---\n",
      "Số hàng: 4797, Số cột: 10\n"
     ]
    }
   ],
   "source": [
    "print(f\"--- 1. Kích thước (Shape) ---\")\n",
    "print(f\"Số hàng: {df.shape[0]}, Số cột: {df.shape[1]}\")"
   ]
  },
  {
   "cell_type": "markdown",
   "id": "978d834d",
   "metadata": {},
   "source": [
    "- Thông tin cột "
   ]
  },
  {
   "cell_type": "code",
   "execution_count": 5,
   "id": "79097e1f",
   "metadata": {},
   "outputs": [
    {
     "name": "stdout",
     "output_type": "stream",
     "text": [
      "--- 2. Thông tin cột (Info) ---\n",
      "<class 'pandas.core.frame.DataFrame'>\n",
      "RangeIndex: 4797 entries, 0 to 4796\n",
      "Data columns (total 10 columns):\n",
      " #   Column                  Non-Null Count  Dtype  \n",
      "---  ------                  --------------  -----  \n",
      " 0   indicator               4797 non-null   object \n",
      " 1   reporter_code           4797 non-null   object \n",
      " 2   reporter_name           4797 non-null   object \n",
      " 3   year                    4797 non-null   int64  \n",
      " 4   classification_version  4797 non-null   object \n",
      " 5   product_code            4797 non-null   int64  \n",
      " 6   partner_code            4797 non-null   object \n",
      " 7   partner_name            4797 non-null   object \n",
      " 8   value                   4797 non-null   float64\n",
      " 9   adb.source              4797 non-null   object \n",
      "dtypes: float64(1), int64(2), object(7)\n",
      "memory usage: 374.9+ KB\n",
      "\n"
     ]
    }
   ],
   "source": [
    "print(f\"--- 2. Thông tin cột (Info) ---\")\n",
    "import io\n",
    "buf = io.StringIO()\n",
    "df.info(buf=buf)\n",
    "print(buf.getvalue())"
   ]
  },
  {
   "cell_type": "markdown",
   "id": "f8324cfc",
   "metadata": {},
   "source": [
    "- Thống kê mô tả"
   ]
  },
  {
   "cell_type": "code",
   "execution_count": 6,
   "id": "57e27b1a",
   "metadata": {},
   "outputs": [
    {
     "name": "stdout",
     "output_type": "stream",
     "text": [
      "--- 3. Thống kê mô tả (Cột chữ/Object) ---\n",
      "                       count unique                       top  freq\n",
      "indicator               4797      1                   Imports  4797\n",
      "reporter_code           4797      5                      C840  1349\n",
      "reporter_name           4797      5  United States of America  1349\n",
      "classification_version  4797      2                      HS22  2489\n",
      "partner_code            4797    157                      A000   126\n",
      "partner_name            4797    157                     World   126\n",
      "adb.source              4797      3                   WTO IDB  3501\n"
     ]
    }
   ],
   "source": [
    "print(f\"--- 3. Thống kê mô tả (Cột chữ/Object) ---\")\n",
    "print(df.describe(include=['object']).T)"
   ]
  },
  {
   "cell_type": "code",
   "execution_count": 8,
   "id": "00103986",
   "metadata": {},
   "outputs": [
    {
     "name": "stdout",
     "output_type": "stream",
     "text": [
      "--- 4. Thống kê mô tả (Cột số) ---\n",
      "               count          mean           std       min       25%       50%        75%           max\n",
      "year          4797.0  2.021850e+03  1.393908e+00    2020.0    2021.0    2022.0     2023.0  2.024000e+03\n",
      "product_code  4797.0  8.512874e+05  1.361775e+03  850440.0  850440.0  850450.0   850780.0  8.541500e+05\n",
      "value         4797.0  1.203549e+08  8.629398e+08       1.0   11009.0  222004.0  5991975.0  2.355842e+10\n"
     ]
    }
   ],
   "source": [
    "print(f\"--- 4. Thống kê mô tả (Cột số) ---\")\n",
    "print(df.describe(include=[np.number]).T)"
   ]
  },
  {
   "cell_type": "markdown",
   "id": "d8ba9063",
   "metadata": {},
   "source": [
    "- Kiểm tra các giá trị chinh"
   ]
  },
  {
   "cell_type": "code",
   "execution_count": 9,
   "id": "2431a1bd",
   "metadata": {},
   "outputs": [
    {
     "name": "stdout",
     "output_type": "stream",
     "text": [
      "--- 5. KIỂM TRA CÁC CỘT QUAN TRỌNG ---\n",
      "\n",
      "Phạm vi năm (year):\n",
      "Từ 2020 đến 2024\n",
      "\n",
      "Các giá trị trong 'indicator' (Top 5):\n",
      "indicator\n",
      "Imports    4797\n",
      "Name: count, dtype: int64\n",
      "\n",
      "Số lượng Quốc gia Báo cáo (reporter_name) duy nhất: 5\n",
      "Số lượng Đối tác (partner_name) duy nhất: 157\n",
      "\n",
      "Số lượng Mã sản phẩm (product_code) duy nhất: 6\n",
      "Top 5 mã sản phẩm phổ biến nhất:\n",
      "product_code\n",
      "850440    1497\n",
      "850450    1009\n",
      "853620     825\n",
      "850760     713\n",
      "850780     472\n",
      "Name: count, dtype: int64\n"
     ]
    }
   ],
   "source": [
    "print(f\"--- 5. KIỂM TRA CÁC CỘT QUAN TRỌNG ---\")\n",
    "\n",
    "print(f\"\\nPhạm vi năm (year):\")\n",
    "print(f\"Từ {df['year'].min()} đến {df['year'].max()}\")\n",
    "\n",
    "print(f\"\\nCác giá trị trong 'indicator' (Top 5):\")\n",
    "print(df['indicator'].value_counts().head())\n",
    "\n",
    "print(f\"\\nSố lượng Quốc gia Báo cáo (reporter_name) duy nhất: {df['reporter_name'].nunique()}\")\n",
    "print(f\"Số lượng Đối tác (partner_name) duy nhất: {df['partner_name'].nunique()}\")\n",
    "\n",
    "print(f\"\\nSố lượng Mã sản phẩm (product_code) duy nhất: {df['product_code'].nunique()}\")\n",
    "print(\"Top 5 mã sản phẩm phổ biến nhất:\")\n",
    "print(df['product_code'].value_counts().head())"
   ]
  }
 ],
 "metadata": {
  "kernelspec": {
   "display_name": "ds102",
   "language": "python",
   "name": "python3"
  },
  "language_info": {
   "codemirror_mode": {
    "name": "ipython",
    "version": 3
   },
   "file_extension": ".py",
   "mimetype": "text/x-python",
   "name": "python",
   "nbconvert_exporter": "python",
   "pygments_lexer": "ipython3",
   "version": "3.11.13"
  }
 },
 "nbformat": 4,
 "nbformat_minor": 5
}
