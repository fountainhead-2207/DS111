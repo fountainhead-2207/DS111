{
 "cells": [
  {
   "cell_type": "code",
   "execution_count": 1,
   "id": "d443a362",
   "metadata": {},
   "outputs": [],
   "source": [
    "import pandas as pd\n",
    "import numpy as np\n",
    "import os"
   ]
  },
  {
   "cell_type": "code",
   "execution_count": 7,
   "id": "d06283fc",
   "metadata": {},
   "outputs": [],
   "source": [
    "# Thiết lập\n",
    "file_path = r\"C:\\Users\\Dell\\Downloads\\adb_exports_28_10_2025_03_38_59.csv\"\n",
    "\n",
    "pd.set_option('display.max_columns', None)\n",
    "pd.set_option('display.width', 1000)\n"
   ]
  },
  {
   "cell_type": "markdown",
   "id": "5cd366e9",
   "metadata": {},
   "source": [
    "- Làm sạch tên cột\n"
   ]
  },
  {
   "cell_type": "code",
   "execution_count": 9,
   "id": "293b6b9a",
   "metadata": {},
   "outputs": [],
   "source": [
    "df = pd.read_csv(file_path)\n",
    "df.columns = df.columns.str.strip()"
   ]
  },
  {
   "cell_type": "markdown",
   "id": "2eed126a",
   "metadata": {},
   "source": [
    "- Kích thước\n",
    "\n"
   ]
  },
  {
   "cell_type": "code",
   "execution_count": 10,
   "id": "6715566d",
   "metadata": {},
   "outputs": [
    {
     "name": "stdout",
     "output_type": "stream",
     "text": [
      "--- 1. Kích thước (Shape) ---\n",
      "Số hàng: 10342, Số cột: 10\n"
     ]
    }
   ],
   "source": [
    "print(f\"--- 1. Kích thước (Shape) ---\")\n",
    "print(f\"Số hàng: {df.shape[0]}, Số cột: {df.shape[1]}\")"
   ]
  },
  {
   "cell_type": "markdown",
   "id": "978d834d",
   "metadata": {},
   "source": [
    "- Thông tin cột "
   ]
  },
  {
   "cell_type": "code",
   "execution_count": 11,
   "id": "79097e1f",
   "metadata": {},
   "outputs": [
    {
     "name": "stdout",
     "output_type": "stream",
     "text": [
      "--- 2. Thông tin cột (Info) ---\n",
      "<class 'pandas.core.frame.DataFrame'>\n",
      "RangeIndex: 10342 entries, 0 to 10341\n",
      "Data columns (total 10 columns):\n",
      " #   Column                  Non-Null Count  Dtype  \n",
      "---  ------                  --------------  -----  \n",
      " 0   indicator               10342 non-null  object \n",
      " 1   reporter_code           10342 non-null  object \n",
      " 2   reporter_name           10342 non-null  object \n",
      " 3   year                    10342 non-null  int64  \n",
      " 4   classification_version  10342 non-null  object \n",
      " 5   product_code            10342 non-null  int64  \n",
      " 6   partner_code            10342 non-null  object \n",
      " 7   partner_name            10342 non-null  object \n",
      " 8   value                   10342 non-null  float64\n",
      " 9   adb.source              10342 non-null  object \n",
      "dtypes: float64(1), int64(2), object(7)\n",
      "memory usage: 808.1+ KB\n",
      "\n"
     ]
    }
   ],
   "source": [
    "print(f\"--- 2. Thông tin cột (Info) ---\")\n",
    "import io\n",
    "buf = io.StringIO()\n",
    "df.info(buf=buf)\n",
    "print(buf.getvalue())"
   ]
  },
  {
   "cell_type": "markdown",
   "id": "f8324cfc",
   "metadata": {},
   "source": [
    "- Thống kê mô tả"
   ]
  },
  {
   "cell_type": "code",
   "execution_count": 13,
   "id": "57e27b1a",
   "metadata": {},
   "outputs": [
    {
     "name": "stdout",
     "output_type": "stream",
     "text": [
      "--- 3. Thống kê mô tả (Cột chữ/Object) ---\n",
      "                        count unique          top   freq\n",
      "indicator               10342      1      Exports  10342\n",
      "reporter_code           10342      5         C156   3578\n",
      "reporter_name           10342      5        China   3578\n",
      "classification_version  10342      2         HS22   5679\n",
      "partner_code            10342    164         A000    126\n",
      "partner_name            10342    164        World    126\n",
      "adb.source              10342      2  UN Comtrade   8061\n"
     ]
    }
   ],
   "source": [
    "print(f\"--- 3. Thống kê mô tả (Cột chữ/Object) ---\")\n",
    "print(df.describe(include=['object']).T)"
   ]
  },
  {
   "cell_type": "code",
   "execution_count": 14,
   "id": "00103986",
   "metadata": {},
   "outputs": [
    {
     "name": "stdout",
     "output_type": "stream",
     "text": [
      "--- 4. Thống kê mô tả (Cột số) ---\n",
      "                count          mean           std       min          25%       50%        75%           max\n",
      "year          10342.0  2.021903e+03  1.409561e+00    2020.0    2021.0000    2022.0     2023.0  2.024000e+03\n",
      "product_code  10342.0  8.513503e+05  1.357465e+03  850440.0  850440.0000  850760.0   850780.0  8.541500e+05\n",
      "value         10342.0  1.023141e+08  1.370537e+09       1.0   20674.0245  312729.5  4909249.5  6.500641e+10\n"
     ]
    }
   ],
   "source": [
    "print(f\"--- 4. Thống kê mô tả (Cột số) ---\")\n",
    "print(df.describe(include=[np.number]).T)"
   ]
  },
  {
   "cell_type": "markdown",
   "id": "d8ba9063",
   "metadata": {},
   "source": [
    "- Kiểm tra các giá trị chinh"
   ]
  },
  {
   "cell_type": "code",
   "execution_count": 15,
   "id": "2431a1bd",
   "metadata": {},
   "outputs": [
    {
     "name": "stdout",
     "output_type": "stream",
     "text": [
      "--- 5. KIỂM TRA CÁC CỘT QUAN TRỌNG ---\n",
      "\n",
      "Phạm vi năm (year):\n",
      "Từ 2020 đến 2024\n",
      "\n",
      "Các giá trị trong 'indicator' (Top 5):\n",
      "indicator\n",
      "Exports    10342\n",
      "Name: count, dtype: int64\n",
      "\n",
      "Số lượng Quốc gia Báo cáo (reporter_name) duy nhất: 5\n",
      "Số lượng Đối tác (partner_name) duy nhất: 164\n",
      "\n",
      "Số lượng Mã sản phẩm (product_code) duy nhất: 6\n",
      "Top 5 mã sản phẩm phổ biến nhất:\n",
      "product_code\n",
      "850440    2809\n",
      "850760    2218\n",
      "853620    2085\n",
      "850450    1628\n",
      "850780    1153\n",
      "Name: count, dtype: int64\n"
     ]
    }
   ],
   "source": [
    "print(f\"--- 5. KIỂM TRA CÁC CỘT QUAN TRỌNG ---\")\n",
    "\n",
    "print(f\"\\nPhạm vi năm (year):\")\n",
    "print(f\"Từ {df['year'].min()} đến {df['year'].max()}\")\n",
    "\n",
    "print(f\"\\nCác giá trị trong 'indicator' (Top 5):\")\n",
    "print(df['indicator'].value_counts().head())\n",
    "\n",
    "print(f\"\\nSố lượng Quốc gia Báo cáo (reporter_name) duy nhất: {df['reporter_name'].nunique()}\")\n",
    "print(f\"Số lượng Đối tác (partner_name) duy nhất: {df['partner_name'].nunique()}\")\n",
    "\n",
    "print(f\"\\nSố lượng Mã sản phẩm (product_code) duy nhất: {df['product_code'].nunique()}\")\n",
    "print(\"Top 5 mã sản phẩm phổ biến nhất:\")\n",
    "print(df['product_code'].value_counts().head())"
   ]
  }
 ],
 "metadata": {
  "kernelspec": {
   "display_name": "ds102",
   "language": "python",
   "name": "python3"
  },
  "language_info": {
   "codemirror_mode": {
    "name": "ipython",
    "version": 3
   },
   "file_extension": ".py",
   "mimetype": "text/x-python",
   "name": "python",
   "nbconvert_exporter": "python",
   "pygments_lexer": "ipython3",
   "version": "3.11.13"
  }
 },
 "nbformat": 4,
 "nbformat_minor": 5
}
